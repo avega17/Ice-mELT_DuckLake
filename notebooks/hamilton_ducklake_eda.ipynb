{
 "cells": [
  {
   "cell_type": "markdown",
   "id": "16f45fa4",
   "metadata": {},
   "source": [
    "# EDA with Hamilton DuckLake Dataflows"
   ]
  },
  {
   "cell_type": "code",
   "execution_count": 2,
   "id": "fbb61b8d",
   "metadata": {},
   "outputs": [
    {
     "data": {
      "text/plain": [
       "True"
      ]
     },
     "execution_count": 2,
     "metadata": {},
     "output_type": "execute_result"
    }
   ],
   "source": [
    "import duckdb\n",
    "import pandas as pd\n",
    "import geopandas as gpd\n",
    "import ibis\n",
    "import matplotlib.pyplot as plt\n",
    "\n",
    "from tqdm import tqdm\n",
    "from dotenv import load_dotenv\n",
    "\n",
    "import os\n",
    "import json\n",
    "\n",
    "tqdm.pandas()\n",
    "ibis.options.interactive = True\n",
    "\n",
    "load_dotenv()"
   ]
  },
  {
   "cell_type": "code",
   "execution_count": 3,
   "id": "7a56f0bb",
   "metadata": {},
   "outputs": [
    {
     "data": {
      "text/plain": [
       "<duckdb.duckdb.DuckDBPyConnection at 0x138f554f0>"
      ]
     },
     "execution_count": 3,
     "metadata": {},
     "output_type": "execute_result"
    }
   ],
   "source": [
    "# load env vars with bucket and catalog creds and conn string\n",
    "bucket_key = os.getenv('R2_ACCESS_KEY_ID')\n",
    "bucket_secret = os.getenv('R2_SECRET_KEY')\n",
    "bucket_name = os.getenv('R2_BUCKET_NAME')\n",
    "bucket_endpoint = os.getenv('R2_S3_ENDPOINT')\n",
    "creds_query = f\"\"\"\n",
    "CREATE OR REPLACE SECRET eo_pv_s3 (\n",
    "    TYPE s3,\n",
    "    PROVIDER config,\n",
    "    KEY_ID '{bucket_key}',\n",
    "    SECRET '{bucket_secret}',\n",
    "    ENDPOINT '{bucket_endpoint}'\n",
    ");\n",
    "\"\"\"\n",
    "# use prod neon catalog instead of local proxy\n",
    "ducklake_conn = os.getenv('DUCKLAKE_CONNECTION_STRING_PROD')\n",
    "\n",
    "# create ibis connection to ducklake\n",
    "con = ibis.duckdb.connect(extensions=['ducklake', 'spatial', 'httpfs'])\n",
    "# setup s3 secret for querying our bucket\n",
    "con.raw_sql(creds_query)\n",
    "con.raw_sql(\"SET s3_use_ssl=true; SET s3_url_style='path';\")"
   ]
  },
  {
   "cell_type": "code",
   "execution_count": 7,
   "id": "e419633f",
   "metadata": {},
   "outputs": [
    {
     "data": {
      "text/plain": [
       "\"ducklake:postgres:dbname=ducklake_catalog host=ep-broad-rain-a4tdwnxn-pooler.us-east-1.aws.neon.tech user=neondb_owner password=npg_y0ViUzD1Xulc port=5432 sslmode=require (DATA_PATH 's3://eo-pv-lakehouse/ducklake_data')\""
      ]
     },
     "execution_count": 7,
     "metadata": {},
     "output_type": "execute_result"
    }
   ],
   "source": [
    "ducklake_conn"
   ]
  },
  {
   "cell_type": "code",
   "execution_count": null,
   "id": "d8ae3c01",
   "metadata": {},
   "outputs": [
    {
     "data": {
      "text/plain": [
       "<duckdb.duckdb.DuckDBPyConnection at 0x138f554f0>"
      ]
     },
     "execution_count": 8,
     "metadata": {},
     "output_type": "execute_result"
    }
   ],
   "source": [
    "con.raw_sql(f\"LOAD ducklake;\")"
   ]
  },
  {
   "cell_type": "code",
   "execution_count": null,
   "id": "37340bca",
   "metadata": {},
   "outputs": [],
   "source": []
  }
 ],
 "metadata": {
  "kernelspec": {
   "display_name": "eo-pv-cv",
   "language": "python",
   "name": "python3"
  },
  "language_info": {
   "codemirror_mode": {
    "name": "ipython",
    "version": 3
   },
   "file_extension": ".py",
   "mimetype": "text/x-python",
   "name": "python",
   "nbconvert_exporter": "python",
   "pygments_lexer": "ipython3",
   "version": "3.12.10"
  }
 },
 "nbformat": 4,
 "nbformat_minor": 5
}
